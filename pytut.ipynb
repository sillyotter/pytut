{
 "cells": [
  {
   "cell_type": "markdown",
   "source": [
    "# Python Functions, Return Values, and Fluent Code Styles"
   ],
   "metadata": {
    "collapsed": false
   },
   "id": "fe16aee04e23b8e7"
  },
  {
   "cell_type": "markdown",
   "source": [
    "## Functions and return values\n",
    "\n",
    "The information below will be presented in python, but technically speaking apply equally yo nearly all programming languages. Some lean one way or the other a bit further, but these are really fundamental concepts that you can apply to anything from python to ocaml."
   ],
   "metadata": {
    "collapsed": false
   },
   "id": "616961124361737b"
  },
  {
   "cell_type": "markdown",
   "source": [
    "Lets start by creating a simple python function and discuss what it does."
   ],
   "metadata": {
    "collapsed": false
   },
   "id": "584b10dc3e115f4d"
  },
  {
   "cell_type": "code",
   "execution_count": 38,
   "outputs": [],
   "source": [
    "def function0(arg1 : int, arg2 : int) -> int:\n",
    "    return arg1 + arg2"
   ],
   "metadata": {
    "collapsed": false,
    "ExecuteTime": {
     "end_time": "2023-12-09T17:04:12.855175444Z",
     "start_time": "2023-12-09T17:04:12.806973098Z"
    }
   },
   "id": "6605b198f8910777"
  },
  {
   "cell_type": "markdown",
   "source": [
    "The above simple function accepts two arguments, adds them together, and returns the result.  \n",
    "\n",
    "The return part of this function is the important bit for this case. When this function runs, a bit of new data will be made available to the context that invoked the call"
   ],
   "metadata": {
    "collapsed": false
   },
   "id": "3120c96024f113a3"
  },
  {
   "cell_type": "code",
   "execution_count": 39,
   "outputs": [
    {
     "name": "stdout",
     "output_type": "stream",
     "text": [
      "300\n"
     ]
    }
   ],
   "source": [
    "a = function0(100, 200)\n",
    "print(a)"
   ],
   "metadata": {
    "collapsed": false,
    "ExecuteTime": {
     "end_time": "2023-12-09T17:04:12.908882637Z",
     "start_time": "2023-12-09T17:04:12.870659055Z"
    }
   },
   "id": "ce9891171590c6bf"
  },
  {
   "cell_type": "markdown",
   "source": [
    "Something to keep in mind is that the value gets returned regardless of whether I want to us it or not.  Above, the returned value was assigned the name a, and I was able to print it.  Its entirely\n",
    "valid to call the function and not name the result.  This means you can't directly reference the return value.\n",
    "\n",
    "```python\n",
    "function0(100,200)\n",
    "print(???)\n",
    "```\n",
    "\n",
    "While I can't directly reference the returned value, it is still there, and I can indirectly reference it."
   ],
   "metadata": {
    "collapsed": false
   },
   "id": "5b1ece1060932b94"
  },
  {
   "cell_type": "code",
   "execution_count": 40,
   "outputs": [
    {
     "name": "stdout",
     "output_type": "stream",
     "text": [
      "1200\n"
     ]
    }
   ],
   "source": [
    "b = function0(100, 200) + function0(400, 500)\n",
    "print(b)"
   ],
   "metadata": {
    "collapsed": false,
    "ExecuteTime": {
     "end_time": "2023-12-09T17:04:12.909386366Z",
     "start_time": "2023-12-09T17:04:12.891344377Z"
    }
   },
   "id": "2c1b75d91d720db6"
  },
  {
   "cell_type": "markdown",
   "source": [
    "As another example, the return value from a function can be passed in as the input to a second function"
   ],
   "metadata": {
    "collapsed": false
   },
   "id": "1c1cfc7e96014506"
  },
  {
   "cell_type": "code",
   "execution_count": 41,
   "outputs": [
    {
     "name": "stdout",
     "output_type": "stream",
     "text": [
      "600\n"
     ]
    }
   ],
   "source": [
    "c = function0(function0(100, 100), function0(200, 200))\n",
    "print(c)"
   ],
   "metadata": {
    "collapsed": false,
    "ExecuteTime": {
     "end_time": "2023-12-09T17:04:12.911785636Z",
     "start_time": "2023-12-09T17:04:12.891597195Z"
    }
   },
   "id": "4b0d0e75c1efe5e5"
  },
  {
   "cell_type": "markdown",
   "source": [
    "Return values from a function exist. If you want to or need to refer to them by name further on in your computation, you need to explicitly name them, but you don't have to do so to make use of the return values. They are somewhat like literal values.\n",
    " \n",
    "```python\n",
    "function0(100, 200)\n",
    "```\n",
    "\n",
    "I can't ever refer to those literal values later on. They have no name.  I can't pass those same numbers into any other functions. The entity that was created by the compiler when it saw the literal string '100' was created, given no name, but the language still knows how to pass that value to the function.\n",
    "\n",
    "This is very similar with function return values.  You can still call functions on them (+ and - are just functions, really), stick them in lists (which is also just a form of function invocation), and any other thing that you can think of doing with a named variable. \n",
    "\n",
    "Since you can't reference them by name, that means you can basically only refer to them at the point of invocation, where the position in the code is enough to understand what to do with it.  In the call above:\n",
    "\n",
    "```python\n",
    "c = function0(100, 100) + function0(200, 200)\n",
    "```\n",
    "\n",
    "I can't refer to `function0(100,100)` by name, but the syntax rules make it clear that I want what ever that unnamed variable is to be passed as the first parameter to the surrounding function, which in this case is the + operation.\n",
    "\n",
    "In summary then, function return values are just like any other variable, except that you can't refer to them anyplace other than where they were called.  \n",
    "\n",
    "There are of course many places where you don't need nor want to ever refer to this value ever again, so its common practice to simply invoke a function in such a way that the value will be passed to some other function, to do a computation or store the value off.  Its very common to do this, and im sure you've seen lots in our work:  \n",
    "\n",
    "```python\n",
    "sevone.connect(getpass.getuser(), getpass.getpass(\"domain pwd: \"))\n",
    "```"
   ],
   "metadata": {
    "collapsed": false
   },
   "id": "1971939ee09d2e66"
  },
  {
   "cell_type": "markdown",
   "source": [
    "This ability to call functions and pass their results around with out naming them is very common, but can lead to some confusion"
   ],
   "metadata": {
    "collapsed": false
   },
   "id": "47b3fd1cb58d9d41"
  },
  {
   "cell_type": "code",
   "execution_count": 42,
   "outputs": [
    {
     "data": {
      "text/plain": "[0, 1, 4, 9, 16, 25, 36, 49, 64, 81]"
     },
     "execution_count": 42,
     "metadata": {},
     "output_type": "execute_result"
    }
   ],
   "source": [
    "list(sorted(map(lambda x: x**2, range(0, 10))))"
   ],
   "metadata": {
    "collapsed": false,
    "ExecuteTime": {
     "end_time": "2023-12-09T17:04:12.943314106Z",
     "start_time": "2023-12-09T17:04:12.910849799Z"
    }
   },
   "id": "ae0c6c9b2c47560c"
  },
  {
   "cell_type": "markdown",
   "source": [
    "If we dissect the above expression, we soon realize we have to read that sequence of calls basically inside out.\n",
    "\n",
    "The above code is saying:\n",
    "\n",
    "1) Create a range from 0 to 10\n",
    "2) Take that and map the squared function over each one of them\n",
    "3) Sort the output\n",
    "4) turn it into a list.\n",
    "\n",
    "That sequence of instructions is pretty simple to understand.  But when you read the code above, its basically presented backwards.\n",
    "\n",
    "1) Turn the inbound stuff in to a list and return it\n",
    "2) Sort the inbound stuff and return it\n",
    "3) Square all of the inbound stuff and return it\n",
    "4) Generate a range of 0-10 numbers and return it\n",
    "\n",
    " Personally, I, and I would guest most other people, find the second version harder to read.  I have to remember the first line as im reading the second line and have to slowly build up a complex thing in my head that shows me what I am doing. The first one is much easier to understand, I never need to know much more than the preceding line when I read things.\n",
    "\n",
    "Some languages have provided built in tricks to do this for you.  For instance, the above could be written in the language F# like this.\n",
    "\n",
    "```f#\n",
    "[0 .. 10] |> List.map (fun x -> x**2) |> List.sort  \n",
    "```\n",
    "\n",
    "Above, the `|>` operator is called the 'pipe' operator, and is used to 'pipe' data through a sequence of functions.\n",
    "\n",
    "The details of F# are not terribly important, but I wanted to indicate that this idea of making function calls look like an easy to read list is so common and popular that many languages include it as a\n",
    "standard or even the default way to call a list of functions.  \n",
    "\n",
    "Python has no built in ability to do this, but it is possible to write code that allows it."
   ],
   "metadata": {
    "collapsed": false
   },
   "id": "ae8de6e1ba1ab7b5"
  },
  {
   "cell_type": "markdown",
   "source": [
    "## Methods\n",
    "\n",
    "In python, in addition to functions, we can also create classes, objects, and methods.  \n",
    "\n",
    "Classes are descriptions of an entity that contains data and operations that work on that data (called methods).  When a class is instantiated, you get and object, and you can invoke methods on that object. \n",
    "\n",
    "An example to make it easier to understand:"
   ],
   "metadata": {
    "collapsed": false
   },
   "id": "b623fbf99e9853a3"
  },
  {
   "cell_type": "code",
   "execution_count": 43,
   "outputs": [
    {
     "name": "stdout",
     "output_type": "stream",
     "text": [
      "80\n"
     ]
    }
   ],
   "source": [
    "# a class describes what the objects will look like\n",
    "class Example:\n",
    "    def __init__(self): # initializes the object\n",
    "        self.__value = 0\n",
    "    \n",
    "    # note the parameter self in every method.  This is an implicit parameter that will automatically be set when ever you call a method on an object.\n",
    "    \n",
    "    def add(self, value: int): # prpvides a method that will add value to the internal __value\n",
    "        self.__value += value\n",
    "        \n",
    "    def sub(self, value: int): # same as add, but subtract\n",
    "        self.__value -= value\n",
    "        \n",
    "    def value(self):\n",
    "        return self.__value\n",
    "        \n",
    "ex = Example() # This is instantiating the class, and we get an object.\n",
    "\n",
    "# invoking methods\n",
    "ex.add(100) # note that we dont explicitly pass in the self parameter.  Self is really the ex object variable we called above\n",
    "ex.sub(20)\n",
    "\n",
    "print(ex.value())\n",
    "\n",
    "# in reality, the call ex.add(100) can be thought of as Example__add(ex, 100), but you dont have to do this, using the . notation is enough to \n",
    "# cause all of that to happen automatically.\n"
   ],
   "metadata": {
    "collapsed": false,
    "ExecuteTime": {
     "end_time": "2023-12-09T17:04:12.943731918Z",
     "start_time": "2023-12-09T17:04:12.942176183Z"
    }
   },
   "id": "aa83c1ee9ce15da"
  },
  {
   "cell_type": "markdown",
   "source": [
    "An important thing to note on a class definition is that every method must start with a parameter called `self`.\n",
    "\n",
    "Self is a name you can use in your method to get to the object and methods attached to the object.  And that is the key thing to know about a object.  Each method naturally and by default has a reference to the\n",
    "object so they can work on the data stored therein.\n",
    "\n",
    "There are many other things we could mention about this, classes and objects can get rather complex, but for our purposes, all we need to know is that methods on objects can reference the object automatically via the \n",
    "self variable.  This gives us the ability to do something pretty slick going forward."
   ],
   "metadata": {
    "collapsed": false
   },
   "id": "dbb95eedfe695a65"
  },
  {
   "cell_type": "code",
   "execution_count": 44,
   "outputs": [],
   "source": [
    "class Example2:\n",
    "    def __init__(self):\n",
    "        self.__value = 0\n",
    "    \n",
    "    def add(self, value: int):\n",
    "        self.__value += value\n",
    "        return self\n",
    "\n",
    "    def sub(self, value: int):\n",
    "        self.__value -= value\n",
    "        return self\n",
    "\n",
    "    def value(self):\n",
    "        return self.__value"
   ],
   "metadata": {
    "collapsed": false,
    "ExecuteTime": {
     "end_time": "2023-12-09T17:04:12.944042790Z",
     "start_time": "2023-12-09T17:04:12.942440438Z"
    }
   },
   "id": "fb0cc0eaf86b8e20"
  },
  {
   "cell_type": "markdown",
   "source": [
    "Ive re-created our example class, but note how the operations add and sub both returh the object via the self variable.\n",
    "\n",
    "Remember from above that you dont need to name a return variable to use it, you can simple perform operations on it, like calling a nother function, etc.  \n",
    "\n",
    "The same is true with objects, but since objects have methods on them, we can do something interesting."
   ],
   "metadata": {
    "collapsed": false
   },
   "id": "e2f6d419d4777506"
  },
  {
   "cell_type": "code",
   "execution_count": 45,
   "outputs": [
    {
     "name": "stdout",
     "output_type": "stream",
     "text": [
      "120\n"
     ]
    }
   ],
   "source": [
    "ex = Example2()\n",
    "\n",
    "answer = ex.add(100).sub(20).add(40).add(200).sub(200).value()\n",
    "print(answer)"
   ],
   "metadata": {
    "collapsed": false,
    "ExecuteTime": {
     "end_time": "2023-12-09T17:04:12.952972622Z",
     "start_time": "2023-12-09T17:04:12.945231976Z"
    }
   },
   "id": "dc17c1dab9e4a28e"
  },
  {
   "cell_type": "markdown",
   "source": [
    "Each method we called on example2 returned the object, allowing us to simply call more methods on that anonymous return values.\n",
    "\n",
    "This is very useful for a few reasons, but one thing to note is that we have achieved something close to that pipe operator we saw before, where rather than having to call a set of nested functions that are hard to read and interpret, we can call the operations as a sequence of operations that can easily be read from left to right, just like english.\n",
    "\n",
    "This is often called a 'fluent` style of writing your code.  Lets compare the results"
   ],
   "metadata": {
    "collapsed": false
   },
   "id": "e105549750a2fea4"
  },
  {
   "cell_type": "code",
   "execution_count": 46,
   "outputs": [
    {
     "data": {
      "text/plain": "120"
     },
     "execution_count": 46,
     "metadata": {},
     "output_type": "execute_result"
    }
   ],
   "source": [
    "def add(a,b):\n",
    "    return a+b\n",
    "\n",
    "def sub(a,b):\n",
    "    return a-b\n",
    "\n",
    "sub(add(add(sub(add(0,100), 20), 40), 200), 200) "
   ],
   "metadata": {
    "collapsed": false,
    "ExecuteTime": {
     "end_time": "2023-12-09T17:04:12.993989872Z",
     "start_time": "2023-12-09T17:04:12.952466621Z"
    }
   },
   "id": "7167954384370166"
  },
  {
   "cell_type": "markdown",
   "source": [
    "Which is easier to make sense of?\n",
    "\n",
    "```python\n",
    "sub(add(add(sub(add(0,100), 20), 40), 200), 200) \n",
    "```\n",
    "or \n",
    "\n",
    "```python\n",
    "ex.add(100).sub(20).add(40).add(200).sub(200).value()\n",
    "```\n",
    "\n",
    "I know my answer, i immensely prefer the second one. It took me two attempts to even write the first one correctly, i got things out of order a few times.\n",
    "\n",
    "Think of a cooking recipie.  Are they written like this:\n",
    "\n",
    "1) Get some flower, salt, and yeast\n",
    "2) Add in 2 tsp of salt and 2tsp of yeast to the flower\n",
    "2) Mix in some water\n",
    "3) Let stand for a few hours\n",
    "3) Bake\n",
    "\n",
    "or are they written like this:\n",
    "\n",
    "1) Bake the stuff\n",
    "    1) The stuff has been sitting for 2 hours\n",
    "        1) Get the stuff yet\n",
    "                1) The dry stuff should be full of salt, flower, and yeast\n",
    "                        1) Get the flower, salt, and yeast from the cupboard\n",
    "\n",
    "This is unreadable gibberish, yet it is fundamentally how most programming languages read when you use nested function calls and anonymous function returns.  "
   ],
   "metadata": {
    "collapsed": false
   },
   "id": "cdf4cd7263b680bc"
  },
  {
   "cell_type": "markdown",
   "source": [
    "## Pandas\n",
    "\n",
    "This fluent style of programming is quite common, and a perfect example of this is looking at the pandas data library"
   ],
   "metadata": {
    "collapsed": false
   },
   "id": "61ecd6881afba6c"
  },
  {
   "cell_type": "code",
   "execution_count": 47,
   "outputs": [],
   "source": [
    "import pandas as pd"
   ],
   "metadata": {
    "collapsed": false,
    "ExecuteTime": {
     "end_time": "2023-12-09T17:04:12.995616871Z",
     "start_time": "2023-12-09T17:04:12.994619916Z"
    }
   },
   "id": "be4e5f0936bb3bd8"
  },
  {
   "cell_type": "code",
   "execution_count": 48,
   "outputs": [
    {
     "data": {
      "text/plain": "   a   b\n0  1   5\n1  2  10\n2  3  15\n3  4  20\n4  5  25",
      "text/html": "<div>\n<style scoped>\n    .dataframe tbody tr th:only-of-type {\n        vertical-align: middle;\n    }\n\n    .dataframe tbody tr th {\n        vertical-align: top;\n    }\n\n    .dataframe thead th {\n        text-align: right;\n    }\n</style>\n<table border=\"1\" class=\"dataframe\">\n  <thead>\n    <tr style=\"text-align: right;\">\n      <th></th>\n      <th>a</th>\n      <th>b</th>\n    </tr>\n  </thead>\n  <tbody>\n    <tr>\n      <th>0</th>\n      <td>1</td>\n      <td>5</td>\n    </tr>\n    <tr>\n      <th>1</th>\n      <td>2</td>\n      <td>10</td>\n    </tr>\n    <tr>\n      <th>2</th>\n      <td>3</td>\n      <td>15</td>\n    </tr>\n    <tr>\n      <th>3</th>\n      <td>4</td>\n      <td>20</td>\n    </tr>\n    <tr>\n      <th>4</th>\n      <td>5</td>\n      <td>25</td>\n    </tr>\n  </tbody>\n</table>\n</div>"
     },
     "execution_count": 48,
     "metadata": {},
     "output_type": "execute_result"
    }
   ],
   "source": [
    "mdf = pd.DataFrame({'a': [1, 2, 3, 4, 5], 'b': [5, 10, 15, 20, 25]})\n",
    "\n",
    "mdf"
   ],
   "metadata": {
    "collapsed": false,
    "ExecuteTime": {
     "end_time": "2023-12-09T17:04:12.996193182Z",
     "start_time": "2023-12-09T17:04:12.994822618Z"
    }
   },
   "id": "6b18fa606072624d"
  },
  {
   "cell_type": "markdown",
   "source": [
    "Each method on a dataframe, such as `assign` is written roughly like this:\n",
    "\n",
    "```python\n",
    "class DataFrame:\n",
    "  ...\n",
    "  def assign(self, ...):\n",
    "    ...\n",
    "    return self\n",
    "```\n",
    "\n",
    "Just as in Example2 above. Each call returns the object that started the operation.  These returned values dont need to be named, but we can just keep calling other methods on it.\n"
   ],
   "metadata": {
    "collapsed": false
   },
   "id": "a5da67f166d5269"
  },
  {
   "cell_type": "code",
   "execution_count": 49,
   "outputs": [
    {
     "data": {
      "text/plain": "   a   b  c    d\n0  1   5  2   25\n1  2  10  2  100\n2  3  15  2  225\n3  4  20  2  400\n4  5  25  2  625",
      "text/html": "<div>\n<style scoped>\n    .dataframe tbody tr th:only-of-type {\n        vertical-align: middle;\n    }\n\n    .dataframe tbody tr th {\n        vertical-align: top;\n    }\n\n    .dataframe thead th {\n        text-align: right;\n    }\n</style>\n<table border=\"1\" class=\"dataframe\">\n  <thead>\n    <tr style=\"text-align: right;\">\n      <th></th>\n      <th>a</th>\n      <th>b</th>\n      <th>c</th>\n      <th>d</th>\n    </tr>\n  </thead>\n  <tbody>\n    <tr>\n      <th>0</th>\n      <td>1</td>\n      <td>5</td>\n      <td>2</td>\n      <td>25</td>\n    </tr>\n    <tr>\n      <th>1</th>\n      <td>2</td>\n      <td>10</td>\n      <td>2</td>\n      <td>100</td>\n    </tr>\n    <tr>\n      <th>2</th>\n      <td>3</td>\n      <td>15</td>\n      <td>2</td>\n      <td>225</td>\n    </tr>\n    <tr>\n      <th>3</th>\n      <td>4</td>\n      <td>20</td>\n      <td>2</td>\n      <td>400</td>\n    </tr>\n    <tr>\n      <th>4</th>\n      <td>5</td>\n      <td>25</td>\n      <td>2</td>\n      <td>625</td>\n    </tr>\n  </tbody>\n</table>\n</div>"
     },
     "execution_count": 49,
     "metadata": {},
     "output_type": "execute_result"
    }
   ],
   "source": [
    "newdf = (\n",
    "    mdf\n",
    "    .assign(c = 2)\n",
    "    .assign(d = lambda df: df.b**2)\n",
    ")\n",
    "\n",
    "newdf"
   ],
   "metadata": {
    "collapsed": false,
    "ExecuteTime": {
     "end_time": "2023-12-09T17:04:13.056028261Z",
     "start_time": "2023-12-09T17:04:12.995011724Z"
    }
   },
   "id": "e4c20613d74f6d77"
  },
  {
   "cell_type": "markdown",
   "source": [
    "Due to pandas decision to write things to follow the fluent style of method invocation, we can issue a series of commands, each which change the dataframe a bit, and we can string together this series of operations in a nice, linear, readable order. We start with our initial data, then that data is passed through each method call, one at a time, in the order written, until we get to the end and we have our output"
   ],
   "metadata": {
    "collapsed": false
   },
   "id": "a330e912b2426f86"
  },
  {
   "cell_type": "markdown",
   "source": [
    "This idea, of linerally taking something, passing it through an operation that modifies it, taking the results of that step and passing it along again, is a common enough real world thing.  And that helps explain why I keep using the term pipe, with out explaining it.\n",
    "\n",
    "![Process Piping](https://i.pinimg.com/originals/2a/13/43/2a1343b4db63693e00e7097e90583ba8.jpg)\n",
    "\n",
    "This diagram of a factory converting raw input material through a variety of steps, to a final product.  These steps all take in several inputs, raw ingredients, power, heat, machine settings, etc, and  they transform the inputs into one or more outputs, which are then sent to the next step through **pipes**.  The analogy should be clear.  \n",
    "\n",
    "What were doing above is the same thing.  Each method is a step in the transformation of raw ingredients to something else, which takes the raw ingredients, settings, other material, and does something to them all and returns something out the end. Each of these transformations are machines in a chemical plant, and we are piping the output of one step to the input of the next step.  \n",
    "\n",
    "In general, software keeps this kind of simple, the pipelines only have a single direction and is a very linear flow, but now you know where the terminology came from.\n",
    "\n",
    "When you see \n",
    "\n",
    "```python\n",
    "newdf = (\n",
    "    mdf\n",
    "    .assign(c = 2)\n",
    "    .assign(d = lambda df: df.b**2)\n",
    ")\n",
    "```\n",
    "\n",
    "Think that each of those assign statements are a bit of machinery that will transform the initial mdf raw input into something else, and each successive call is the wiring up of the output of one machine with the input of the next, and we can just keep chaining things together until we have our final output, which we can then dump into a tank for later use (we gave it a name so we could refer to it later).\n",
    "\n",
    "Pandas goes one step further, and has an explicit `.pipe` method that allows you to tie arbitrary machines of your own invention into this."
   ],
   "metadata": {
    "collapsed": false
   },
   "id": "d118655ff7a0a1b1"
  },
  {
   "cell_type": "code",
   "execution_count": 50,
   "outputs": [
    {
     "data": {
      "text/plain": "   a   b  c    d\n0  1   5  2   25\n1  2  10  2  100",
      "text/html": "<div>\n<style scoped>\n    .dataframe tbody tr th:only-of-type {\n        vertical-align: middle;\n    }\n\n    .dataframe tbody tr th {\n        vertical-align: top;\n    }\n\n    .dataframe thead th {\n        text-align: right;\n    }\n</style>\n<table border=\"1\" class=\"dataframe\">\n  <thead>\n    <tr style=\"text-align: right;\">\n      <th></th>\n      <th>a</th>\n      <th>b</th>\n      <th>c</th>\n      <th>d</th>\n    </tr>\n  </thead>\n  <tbody>\n    <tr>\n      <th>0</th>\n      <td>1</td>\n      <td>5</td>\n      <td>2</td>\n      <td>25</td>\n    </tr>\n    <tr>\n      <th>1</th>\n      <td>2</td>\n      <td>10</td>\n      <td>2</td>\n      <td>100</td>\n    </tr>\n  </tbody>\n</table>\n</div>"
     },
     "execution_count": 50,
     "metadata": {},
     "output_type": "execute_result"
    }
   ],
   "source": [
    "def mycustomfunction(df):\n",
    "    return df.iloc[0:2]\n",
    "\n",
    "newdf = (\n",
    "    mdf\n",
    "    .assign(c = 2)\n",
    "    .assign(d = lambda df: df.b**2)\n",
    "    .pipe(mycustomfunction)\n",
    ")\n",
    "\n",
    "newdf"
   ],
   "metadata": {
    "collapsed": false,
    "ExecuteTime": {
     "end_time": "2023-12-09T17:04:13.058325117Z",
     "start_time": "2023-12-09T17:04:13.036181700Z"
    }
   },
   "id": "43c52d3cf47f50fd"
  },
  {
   "cell_type": "markdown",
   "source": [
    "Above, we 'pipe' the data from `.assign(d...` through the custom function mycustomfunction, which transforms the data frame (in this case just returns the first two rows) and pases the results further down the rest of the chain.\n",
    "\n",
    "## Summary\n",
    "\n",
    "So, I hope you can see the benefits of this fluent style of programming, and how its all done under the hoods with the unnamed python variables that hold the unnamed return values.\n",
    "\n",
    "With a fluent style of programming, I can write a sequence of operations that all operate in a linear, intuitive, easy to read sequence. They read like a simple cooking instruction.  And its all made possible by the fact that return values from functions dont need to have a name to be used.\n",
    "\n",
    "\n"
   ],
   "metadata": {
    "collapsed": false
   },
   "id": "3411c0820940d2ee"
  },
  {
   "cell_type": "code",
   "execution_count": 50,
   "outputs": [],
   "source": [],
   "metadata": {
    "collapsed": false,
    "ExecuteTime": {
     "end_time": "2023-12-09T17:04:13.058688834Z",
     "start_time": "2023-12-09T17:04:13.036448233Z"
    }
   },
   "id": "7879557de8e8d902"
  }
 ],
 "metadata": {
  "kernelspec": {
   "display_name": "Python 3",
   "language": "python",
   "name": "python3"
  },
  "language_info": {
   "codemirror_mode": {
    "name": "ipython",
    "version": 2
   },
   "file_extension": ".py",
   "mimetype": "text/x-python",
   "name": "python",
   "nbconvert_exporter": "python",
   "pygments_lexer": "ipython2",
   "version": "2.7.6"
  }
 },
 "nbformat": 4,
 "nbformat_minor": 5
}
